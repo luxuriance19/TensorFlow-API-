{
 "cells": [
  {
   "cell_type": "markdown",
   "metadata": {},
   "source": [
    "tf.summary.histogram(name,values,collections=None,family=None)  \n",
    "\n",
    "outputs a summary protocol buffer with a histogram\n",
    "加入histogram summary(直方图)总结使得再Tensorboard中可以可视化数据的分布。  \n",
    "The generated Summary has one summary value containing a histogram for values.  \n",
    "\n",
    "参数：\n",
    "name： \n",
    "generated node的名字，Tensorboard中作为series name  \n",
    "values： 实数tensor,任意的shape，参数用来简历直方图  \n",
    "collections：新的summary op(操作)加入到这个collections中，默认是[GraphKeys.SUMMARIES]  \n",
    "family: 如果提供，用来作为summary的前缀的tag name，控制Tensorboard中显示的tab name\n",
    "\n",
    "return：\n",
    "A scalar Tensor of type string. The serialized Summary protocol buffer."
   ]
  },
  {
   "cell_type": "markdown",
   "metadata": {},
   "source": [
    "\n",
    "\n",
    "tf.summary.scalar(name,tensor,collections=None,family=None)\n",
    "\n",
    "outputs a summary protocal buffer containing a single scalar value\n",
    "生成的summary有一个Tensor.proto包含input Tensor\n",
    "\n",
    "参数：  \n",
    "name： 生成节点名字（同histogram）\n",
    "tensor，collections，family上同  \n",
    "\n",
    "return：\n",
    "a scalar tensor of type string, 包含了 Summary protobuf  \n",
    "A scalar Tensor of type string. Which contains a Summary protobuf."
   ]
  },
  {
   "cell_type": "markdown",
   "metadata": {},
   "source": [
    "\n",
    "\n",
    "tf.add_to_collection(name, value)\n",
    "\n",
    "wrapper for Graph.add_to_collection() using the default graph"
   ]
  },
  {
   "cell_type": "markdown",
   "metadata": {},
   "source": [
    "\n",
    "\n",
    "tf.get_variable(name,\n",
    "    shape=None,\n",
    "    dtype=None,\n",
    "    initializer=None,\n",
    "    regularizer=None,\n",
    "    trainable=True,\n",
    "    collections=None,\n",
    "    caching_device=None,\n",
    "    partitioner=None,\n",
    "    validate_shape=True,\n",
    "    use_resource=None,\n",
    "    custom_getter=None,\n",
    "    constraint=None\n",
    ")\n",
    "This function prefixes the name with the current variable scope and performs reuse checks. See the Variable Scope How To for an extensive description of how reusing works. Here is a basic example:\n",
    "\n",
    "The best way to create a variable is to call the tf.get_variable function. This function requires you to specify the Variable's name. This name will be used by other replicas to access the same variable, as well as to name this variable's value when checkpointing and exporting models. tf.get_variable also allows you to reuse a previously created variable of the same name, making it easy to define models which reuse layers.  \n",
    "(最好的创建一个变量的函数是tf.get_variable),这个函数要求你确定变量的名字，这个名字可以被其他的副本用于访问相同的变量，并且可以在checkpointing和导出模型的时候可以命名这个变量。并且可以重复使用之前创建过的同名变量，让重复使用layers的模型可以被轻松的定义\n"
   ]
  },
  {
   "cell_type": "code",
   "execution_count": 2,
   "metadata": {},
   "outputs": [],
   "source": [
    "import tensorflow as tf"
   ]
  },
  {
   "cell_type": "code",
   "execution_count": 16,
   "metadata": {},
   "outputs": [],
   "source": [
    "def foo():\n",
    "    with tf.variable_scope('foo', reuse=tf.AUTO_REUSE):\n",
    "        v = tf.get_variable('v',[1])\n",
    "    return v\n",
    "\n",
    "v1 = foo()\n",
    "v2 = foo()\n",
    "assert v1==v2"
   ]
  },
  {
   "cell_type": "code",
   "execution_count": 21,
   "metadata": {},
   "outputs": [
    {
     "name": "stdout",
     "output_type": "stream",
     "text": [
      "foo/v:0\n",
      "foo/v:0\n"
     ]
    }
   ],
   "source": [
    "with tf.Session() as sess:\n",
    "    print(v1.name)\n",
    "    print(v2.name)"
   ]
  },
  {
   "cell_type": "code",
   "execution_count": null,
   "metadata": {},
   "outputs": [],
   "source": []
  }
 ],
 "metadata": {
  "kernelspec": {
   "display_name": "Python 3",
   "language": "python",
   "name": "python3"
  },
  "language_info": {
   "codemirror_mode": {
    "name": "ipython",
    "version": 3
   },
   "file_extension": ".py",
   "mimetype": "text/x-python",
   "name": "python",
   "nbconvert_exporter": "python",
   "pygments_lexer": "ipython3",
   "version": "3.5.4"
  }
 },
 "nbformat": 4,
 "nbformat_minor": 2
}
