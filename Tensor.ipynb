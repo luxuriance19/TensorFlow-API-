{
 "cells": [
  {
   "cell_type": "code",
   "execution_count": 1,
   "metadata": {},
   "outputs": [],
   "source": [
    "import tensorflow as tf"
   ]
  },
  {
   "cell_type": "markdown",
   "metadata": {},
   "source": [
    "Tensor是vector和matrices的泛化。  \n",
    "在tensorflow程式当中，主要的操作和传递的对象就是tf.Tensor。  \n",
    "tf.Tensor的主要特征\n",
    "<ul>\n",
    "    <li> a data type(float32,int32,or string)</li>\n",
    "    <li> a shape</li>\n",
    "</ul>"
   ]
  },
  {
   "cell_type": "markdown",
   "metadata": {},
   "source": [
    "### Rank\n",
    "tf.Tensor 对象的 rank是维度数（也可以用order，degree，n-dimension 表示）"
   ]
  },
  {
   "cell_type": "markdown",
   "metadata": {},
   "source": [
    "|Rank | Math entity                |\n",
    "|:--: |   :-----:       |\n",
    "|0\t |Scalar (magnitude only)|\n",
    "|1\t |Vector (magnitude and direction)|\n",
    "|2\t |Matrix (table of numbers)|\n",
    "|3\t |3-Tensor (cube of numbers)|\n",
    "|n\t |n-Tensor (you get the idea)|"
   ]
  },
  {
   "cell_type": "markdown",
   "metadata": {},
   "source": [
    "__Rank 0__"
   ]
  },
  {
   "cell_type": "code",
   "execution_count": 2,
   "metadata": {},
   "outputs": [],
   "source": [
    "mammal = tf.Variable(\"Elephant\",tf.string)\n",
    "ignition = tf.Variable(451,tf.int16)\n",
    "flating = tf.Variable(3.14159265359, tf.float64)\n",
    "its_complicated = tf.Variable((12.3, -4.85), tf.complex64)"
   ]
  },
  {
   "cell_type": "markdown",
   "metadata": {},
   "source": [
    "string 在tensorflow中是被做为一个item处理的，所以可以是标量，也可以是strings向量，如下  \n",
    "__Rank 1__"
   ]
  },
  {
   "cell_type": "code",
   "execution_count": 7,
   "metadata": {},
   "outputs": [],
   "source": [
    "mystr = tf.Variable([\"Hello\"],tf.string)\n",
    "cool_numbers  = tf.Variable([3.14159, 2.71828], tf.float32)\n",
    "first_primes = tf.Variable([2, 3, 5, 7, 11], tf.int32)\n",
    "its_very_complicated = tf.Variable([(12.3, -4.85), (7.5, -6.23)], tf.complex64)"
   ]
  },
  {
   "cell_type": "markdown",
   "metadata": {},
   "source": [
    "__Higher ranks__"
   ]
  },
  {
   "cell_type": "code",
   "execution_count": 9,
   "metadata": {},
   "outputs": [],
   "source": [
    "mymat = tf.Variable([[7],[11]], tf.int16)\n",
    "myxor = tf.Variable([[False, True],[True, False]], tf.bool)\n",
    "linear_squares = tf.Variable([[4], [9], [16], [25]], tf.int32)\n",
    "squarish_squares = tf.Variable([ [4, 9], [16, 25] ], tf.int32)\n",
    "rank_of_squares = tf.rank(squarish_squares)\n",
    "mymatC = tf.Variable([[7],[11]], tf.int32)\n",
    "\n",
    "my_image = tf.zeros([10, 299, 299, 3])  # batch x height x width x color"
   ]
  },
  {
   "cell_type": "markdown",
   "metadata": {},
   "source": [
    "__getting a tf.Tensor object's rank__\n",
    "tf.rank()方法可以获得tf.Tensor对象的rank："
   ]
  },
  {
   "cell_type": "code",
   "execution_count": 13,
   "metadata": {},
   "outputs": [],
   "source": [
    "r = tf.rank(mymat)\n",
    "# After the graph runs, r will hold the value 2"
   ]
  },
  {
   "cell_type": "markdown",
   "metadata": {},
   "source": [
    "__Referring to tf.Tensor slices__  \n",
    "rank 1 tensor: 传入一个index来获取值  \n",
    "rank 2 tensor: 传入两个数获得一个标量，或者可以或者一个子矩阵  \n",
    "higher rank： 同理"
   ]
  },
  {
   "cell_type": "code",
   "execution_count": null,
   "metadata": {},
   "outputs": [],
   "source": [
    "my_scalar = my_vector[2] #rank1 get scalar\n",
    "my_scalar = my_matrix[1, 2] # rank 2 get scalar\n",
    "my_row_vector = my_matrix[2] # rank 2 get subvector of a matrix\n",
    "my_column_vector = my_matrix[:, 3]"
   ]
  },
  {
   "cell_type": "markdown",
   "metadata": {},
   "source": [
    "### shape\n",
    "Shapes can be represented via Python lists / tuples of ints, or with the tf.TensorShape."
   ]
  },
  {
   "cell_type": "markdown",
   "metadata": {},
   "source": [
    "Rank |Shape|\tDimension number| Example\n",
    ":-|:-|:-|:-\n",
    "0\t|[]\t|0-D|\tA 0-D tensor. A scalar.\n",
    "1\t|[D0]\t|1-D|\tA 1-D tensor with shape [5].\n",
    "2\t|[D0, D1]\t|2-D|\tA 2-D tensor with shape [3, 4].\n",
    "3\t|[D0, D1, D2]\t|3-D|\tA 3-D tensor with shape [1, 4, 3].\n",
    "n\t|[D0, D1, ... Dn-1]\t|n-D|\tA tensor with shape [D0, D1, ... Dn-1]."
   ]
  },
  {
   "cell_type": "markdown",
   "metadata": {},
   "source": [
    "__Getting a tf.Tensor object's shape__  \n",
    "1：tf.Tensor有property： shape，这个方法会返回一个TensorShape对象。  \n",
    "2：tf.shape在runtime的时候可以获得tf.Tensor的shape，下列中创建一个同样尺寸的0矩阵："
   ]
  },
  {
   "cell_type": "code",
   "execution_count": 17,
   "metadata": {},
   "outputs": [],
   "source": [
    "zeros = tf.zeros(tf.shape(my_matrix)[1])"
   ]
  },
  {
   "cell_type": "markdown",
   "metadata": {},
   "source": [
    "__Changing the shape of a tf.Tensor__  \n",
    "tf.reshape()"
   ]
  },
  {
   "cell_type": "code",
   "execution_count": null,
   "metadata": {},
   "outputs": [],
   "source": [
    "rank_three_tensor = tf.ones([3, 4, 5])\n",
    "matrix = tf.reshape(rank_three_tensor, [6, 10])  # Reshape existing content into\n",
    "                                                 # a 6x10 matrix\n",
    "matrixB = tf.reshape(matrix, [3, -1])  #  Reshape existing content into a 3x20\n",
    "                                       # matrix. -1 tells reshape to calculate\n",
    "                                       # the size of this dimension.\n",
    "matrixAlt = tf.reshape(matrixB, [4, 3, -1])  # Reshape existing content into a\n",
    "                                             #4x3x5 tensor\n",
    "\n",
    "# Note that the number of elements of the reshaped Tensors has to match the\n",
    "# original number of elements. Therefore, the following example generates an\n",
    "# error because no possible value for the last dimension will match the number\n",
    "# of elements.\n",
    "yet_another = tf.reshape(matrixAlt, [13, 2, -1])  # ERROR!"
   ]
  },
  {
   "cell_type": "markdown",
   "metadata": {},
   "source": [
    "### Data types\n",
    "类型转换： tf.cast  \n",
    "获得tf.Tensor的data type用 Tensor.dtype property  \n",
    "tensorflow将python integers转换为tf.int32, 将python 浮点类型转换为tf.float32"
   ]
  },
  {
   "cell_type": "code",
   "execution_count": 18,
   "metadata": {},
   "outputs": [],
   "source": [
    "# Cast a constant integer tensor into floating point.\n",
    "float_tensor = tf.cast(tf.constant([1, 2, 3]), dtype=tf.float32)"
   ]
  },
  {
   "cell_type": "markdown",
   "metadata": {},
   "source": [
    "### Evaluating Tensors\n",
    "当计算图形建立之后，可以通过计算获得特定的tf.Tensor并且获得相应的值赋值给它。一般用来debugging处理  \n",
    "<p>\n",
    "    最简单的方法： Tensor.eval方法\n",
    "    </p>\n",
    "<p>\n",
    "    当tf.Tensor无内容，也就是说它的值取决于动态信息的时候，就无法evaluate。e.g.tensors依赖于Placeholer的除非赋值给Placeholder，否则无法评估\n",
    "    </p>\n",
    "    \n",
    "When working with queues, remember to call tf.train.start_queue_runners before evaluating any tf.Tensors."
   ]
  },
  {
   "cell_type": "code",
   "execution_count": 24,
   "metadata": {},
   "outputs": [
    {
     "name": "stdout",
     "output_type": "stream",
     "text": [
      "[1 4 9]\n",
      "3.0\n"
     ]
    }
   ],
   "source": [
    "constant= tf.constant([1,2,3])\n",
    "tensor = constant*constant\n",
    "with tf.Session() as sess:\n",
    "    sess.run(tensor)\n",
    "    print(tensor.eval())\n",
    "    \n",
    "p = tf.placeholder(tf.float32)\n",
    "t = p + 1.0\n",
    "with tf.Session() as sess:\n",
    "    #t.eval() # This will fail, since the placeholder did not get a value.\n",
    "    print(t.eval(feed_dict={p:2.0}))# This will succeed because we're feeding a value\n",
    "                           # to the placeholder."
   ]
  },
  {
   "cell_type": "markdown",
   "metadata": {},
   "source": [
    "### Printing Tensors\n",
    "\n",
    "tfdbg 提供debugging支持  \n",
    "TensorFlow provides the tf.Print operation, which returns its first tensor argument unchanged while printing the set of tf.Tensors it is passed as the second argument.  \n",
    "tf.Print,返回第一个参数，打印第二个参数\n",
    "\n",
    "To correctly use tf.Print its return value must be used. See the example below"
   ]
  },
  {
   "cell_type": "code",
   "execution_count": null,
   "metadata": {},
   "outputs": [],
   "source": [
    "t = <<some tensorflow operation>>\n",
    "print(t)  # This will print the symbolic tensor when the graph is being built.\n",
    "         # This tensor does not have a value in this context.\n",
    "\n",
    "t = <<some tensorflow operation>>\n",
    "tf.Print(t, [t])  # This does nothing\n",
    "t = tf.Print(t, [t])  # Here we are using the value returned by tf.Print\n",
    "result = t + 1  # Now when result is evaluated the value of `t` will be printed"
   ]
  }
 ],
 "metadata": {
  "kernelspec": {
   "display_name": "Python 3",
   "language": "python",
   "name": "python3"
  },
  "language_info": {
   "codemirror_mode": {
    "name": "ipython",
    "version": 3
   },
   "file_extension": ".py",
   "mimetype": "text/x-python",
   "name": "python",
   "nbconvert_exporter": "python",
   "pygments_lexer": "ipython3",
   "version": "3.5.4"
  }
 },
 "nbformat": 4,
 "nbformat_minor": 2
}
