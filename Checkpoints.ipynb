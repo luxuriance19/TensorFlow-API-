{
 "cells": [
  {
   "cell_type": "markdown",
   "metadata": {},
   "source": [
    "这个文件检查怎么样保存和恢复通过Estimator创建的TensorFlow models。 TensorFlow提供两个模型格式：\n",
    "* checkpoints: 格式依赖于创建模型的代码\n",
    "* SavedModel: 格式依赖于创建模型的代码\n",
    "这个文档专注于checkpoints。 SavedModel的详细信息见[Saving and Restoring](https://www.tensorflow.org/programmers_guide/saved_model?hl=zh-cn)\n",
    "\n",
    "## Saving partially-trained models\n",
    "Estimators 自动将下面的东西写到磁盘：\n",
    "* __checkpoints__ 在training的时候创建的模型。\n",
    "* __event files__ TensorBoard用来创造visualizations的信息。\n",
    "\n",
    "指定Estimator top-level目录储存信息，通过给Estimator的构造器的可选参数 __model_dir__ 赋值。例如，以下的代码将 __model_dir='models/iris'__ ,例如下面例1：\n",
    "\n",
    "如果调用 Estimator的train方法，例如下面示例2：\n",
    "\n",
    "如下面的图形表示的，train第一次调用增加checkpoints和其他的文件到 __model_dir__ 目录"
   ]
  },
  {
   "cell_type": "markdown",
   "metadata": {},
   "source": [
    "![Title](./first_train_calls.png)"
   ]
  },
  {
   "cell_type": "code",
   "execution_count": null,
   "metadata": {},
   "outputs": [],
   "source": [
    "# 1:\n",
    "classifier = tf.estimator.DNNClassifier(\n",
    "    feature_columns = my_feature_columns,hidden_units=[10,10],\n",
    "    n_classes=3, model_dir ='models/iris')\n",
    "\n",
    "# 2:\n",
    "classifier.train(input_fn=lambda:train_input_fn(train_x,train_y,batch_size=100),\n",
    "                steps = 200)\n",
    "\n",
    "## model_dir中创建的文件，start of training is 1, end of training is 200\n",
    "$ ls -1 models/iris # unix command\n",
    "checkpoint\n",
    "events.out.tfevents.timestamp.hostname\n",
    "graph.pbtxt\n",
    "model.ckpt-1.data-00000-of-00001\n",
    "model.ckpt-1.index\n",
    "model.ckpt-1.meta\n",
    "model.ckpt-200.data-00000-of-00001\n",
    "model.ckpt-200.index\n",
    "model.ckpt-200.meta"
   ]
  },
  {
   "cell_type": "markdown",
   "metadata": {},
   "source": [
    "### Default checkpoint directory\n",
    "如果不指定Estimator中 __model_dir__ 的参数，那么checkpoint会写到Python选择的 [tempfile.mkdtemp](https://docs.python.org/3/library/tempfile.html#tempfile.mkdtemp) 函数的临时目录当中。 __tempfile.mkdtemp__ 函数选择一个合适与你操作系统的安全的合适的临时目录。例如， macOs可能创建的目录如下所示："
   ]
  },
  {
   "cell_type": "code",
   "execution_count": null,
   "metadata": {},
   "outputs": [],
   "source": [
    "classifier = tf.estimator.DNNClassifier(\n",
    "    feature_columns=my_feature_columns,\n",
    "    hidden_units=[10, 10],\n",
    "    n_classes=3)\n",
    "\n",
    "print(classifier.model_dir)\n",
    "# /var/folders/0s/5q9kfzfj3gx2knj0vj8p68yc00dhcr/T/tmpYm1Rwa"
   ]
  },
  {
   "cell_type": "markdown",
   "metadata": {},
   "source": [
    "### Checkpointing Frequency\n",
    "默认情况下， Estimator保存checkpoints到 __model_dir__ 当中依照以下过程：\n",
    "* 每十分钟(600s)写一个checkpoint\n",
    "* 当train 方法开始的时候(第一次迭代）和完成的时候（最后一次迭代）写一个checkpoint。\n",
    "* 在目录中保留最近的5个checkpoints\n",
    "\n",
    "可以通过以下步骤修改默认的schedule：\n",
    "1. 创造一个 __[RunConfig](https://www.tensorflow.org/api_docs/python/tf/estimator/RunConfig?hl=zh-cn)__ 对象定义想要的schedule\n",
    "2. 当实例化Estimator时，将 __RunConfig__ 对象传递给Estimator中的 __config__ 参数。  \n",
    "\n",
    "例如，以下的代码修改checkpointing schedule到每20分钟保存一次并且保留最近的10个checkpoints："
   ]
  },
  {
   "cell_type": "code",
   "execution_count": null,
   "metadata": {},
   "outputs": [],
   "source": [
    "my_checkpointing_config = tf.estimator.RunConfig(\n",
    "    save_checkpoints_secs = 20*60 # Save checkpoints every 20 minutes.\n",
    "    keep_checkpoint_max = 10,     # Retain the 10 most recent checkpoints.\n",
    ")\n",
    "\n",
    "classifier = tf.estimator.DNNClassifier(\n",
    "    feature_columns = my_feature_columns,\n",
    "    hidden_units=[10,10],\n",
    "    n_classes=3,\n",
    "    model_dir = 'models/iris',\n",
    "    config=my_checkpointing_config\n",
    ")"
   ]
  },
  {
   "cell_type": "markdown",
   "metadata": {},
   "source": [
    "## Restoring your model\n",
    "第一次调用 Estimator train方法的时候， TensorFlow储存一个checkpoint到 __model_dir__ . 接下来每次调用Estimator的train，evaluate，predict方法会导致下面的：\n",
    "1. Estimator通过调用 __model_fn()__ 来创建模型的 graph\n",
    "2. Estimator 从最近储存的checkpoint数据中初始化新模型的weights\n",
    "\n",
    "也就是说，就像下面的图片显示，一旦checkpoints存在，TensorFlow会在调用 __train(),evaluation(),predict()__ 的时候重建模型。\n",
    "![Title](./subsequent_calls.png)\n",
    "\n",
    "#### Avoiding a bad restoration\n",
    "只有当模型和checkpoint兼容的时候，从一个checkpoint恢复(restore)一个模型才能够工作。\n",
    "以下示例当中会出现重载错误：\n"
   ]
  },
  {
   "cell_type": "code",
   "execution_count": 1,
   "metadata": {},
   "outputs": [
    {
     "ename": "SyntaxError",
     "evalue": "invalid syntax (<ipython-input-1-4fb4524e9f5b>, line 25)",
     "output_type": "error",
     "traceback": [
      "\u001b[1;36m  File \u001b[1;32m\"<ipython-input-1-4fb4524e9f5b>\"\u001b[1;36m, line \u001b[1;32m25\u001b[0m\n\u001b[1;33m    InvalidArgumentError (see above for traceback): tensor_name =\u001b[0m\n\u001b[1;37m                                  ^\u001b[0m\n\u001b[1;31mSyntaxError\u001b[0m\u001b[1;31m:\u001b[0m invalid syntax\n"
     ]
    }
   ],
   "source": [
    "## 首先训练一个两层hidden layer并且units=10\n",
    "classifier = tf.estimator.DNNClassifier(\n",
    "    feature_columns=feature_columns,\n",
    "    hidden_units=[10, 10],\n",
    "    n_classes=3,\n",
    "    model_dir='models/iris')\n",
    "\n",
    "classifier.train(\n",
    "    input_fn=lambda:train_input_fn(train_x, train_y, batch_size=100),\n",
    "        steps=200)\n",
    "\n",
    "## 然后修改hidden_units参数到[20,20]\n",
    "classifier2 = tf.estimator.DNNClassifier(\n",
    "    feature_columns=my_feature_columns,\n",
    "    hidden_units=[20, 20],  # Change the number of neurons in the model.\n",
    "    n_classes=3,\n",
    "    model_dir='models/iris')\n",
    "\n",
    "classifier.train(\n",
    "    input_fn=lambda:train_input_fn(train_x, train_y, batch_size=100),\n",
    "        steps=200)\n",
    "\n",
    "## 由于第二个模型的参数和第一个模型的参数不匹配，所以，会得到一个错误\n",
    "...\n",
    "InvalidArgumentError (see above for traceback): tensor_name =\n",
    "dnn/hiddenlayer_1/bias/t_0/Adagrad; shape in shape_and_slice spec [10]\n",
    "does not match the shape stored in checkpoint: [20]\n",
    "\n",
    "## 所以修改参数的时候，必须要修改model_dir的值，这样保证checkpoints时可恢复的\n"
   ]
  },
  {
   "cell_type": "markdown",
   "metadata": {},
   "source": [
    "## Summary\n",
    "Checkpoints由Estimator创建提供一个可以自动保存和恢复模型的机制。\n",
    "查看[Saving and Restoring](https://www.tensorflow.org/programmers_guide/saved_model?hl=zh-cn) 来获得更加详细的信息：\n",
    "* 怎么样在 low-level TensorFlow API 上面保存和恢复model\n",
    "* 用 SavedModel的格式导出和导入模型，这是一个语言中立，可恢复的，序列化的格式。"
   ]
  },
  {
   "cell_type": "code",
   "execution_count": null,
   "metadata": {},
   "outputs": [],
   "source": []
  }
 ],
 "metadata": {
  "kernelspec": {
   "display_name": "Python 3",
   "language": "python",
   "name": "python3"
  },
  "language_info": {
   "codemirror_mode": {
    "name": "ipython",
    "version": 3
   },
   "file_extension": ".py",
   "mimetype": "text/x-python",
   "name": "python",
   "nbconvert_exporter": "python",
   "pygments_lexer": "ipython3",
   "version": "3.5.4"
  }
 },
 "nbformat": 4,
 "nbformat_minor": 2
}
